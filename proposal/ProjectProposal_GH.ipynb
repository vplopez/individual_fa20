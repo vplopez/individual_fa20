{
 "cells": [
  {
   "cell_type": "markdown",
   "metadata": {},
   "source": [
    "# COGS 108 - Project Proposal"
   ]
  },
  {
   "cell_type": "markdown",
   "metadata": {},
   "source": [
    "# Names & GitHub ID\n",
    "\n",
    "- Name: Valerie Plata Lopez\n",
    "- GitHub Username: vplopez"
   ]
  },
  {
   "cell_type": "markdown",
   "metadata": {},
   "source": [
    "# Research Question"
   ]
  },
  {
   "cell_type": "markdown",
   "metadata": {},
   "source": [
    "Based on the topic provided, I wanted to delve into whether public parks have an effect on crime. For my research question, I would like to ask: does the presence of public parks in San Diego have an effect on crime rates in the nearby locations?
"
   ]
  },
  {
   "cell_type": "markdown",
   "metadata": {},
   "source": [
    "## Background and Prior Work"
   ]
  },
  {
   "cell_type": "markdown",
   "metadata": {},
   "source": [
    "After doing some surface level research, I found that researchers in Chicago found 52% fewer crimes reported near buildings surrounded by trees and vegetation (Sullivan 2001). This was an interesting finding, because my initial hypothesis was that having more parks would be linked to fear of crime; however, this study demonstrated that the greener a building’s surroundings were, the fewer crimes were reported. Some people may argue that parks are dangerous-- grounds for activities like kidnappings, drug dealing, or underage drinking. Another study conducted in 2015 by Houser and McCord found that property crime rates were two to four times higher in neighborhoods near parks.
From this research, it seems as though the relationship between parks and crime rates is still inconclusive and cannot be generalized; therefore, I am very interested in identifying how these findings will hold up against San Diego Public Parks. Do parks in San Diego have an effect on crime rates in the surrounding area? Or will the crime rates be heavily dependent on other factors? According to research from the International Journal of Environmental Research and Public Health, there were three studies that found parks associated with reductions in crime, and another three where the trends were in the opposite direction (Shepley et al 2019). Once again, this demonstrates the inconclusive relationship between parks and crime rates-- where some neighborhoods have positive effects and others have negative effects. What factors will play a role in crime rates surrounding the San Diego areas?
 \n",
    "\n",
    "References (include links):\n",
    "- 1) https://journals.sagepub.com/doi/abs/10.1177/0013916501333002\n",
    "- 2)https://link.springer.com/article/10.1057/sj.2015.11
"
   ]
  },
  {
   "cell_type": "markdown",
   "metadata": {},
   "source": [
    "# Hypothesis\n"
   ]
  },
  {
   "cell_type": "markdown",
   "metadata": {},
   "source": [
    "After conducting some initial research, I hypothesize that neighborhoods near parks will have higher crime rates than those without parks. I believe that parks are more likely than other places to have crimes like kidnappings, drug dealings, and disorderly conduct. Additionally, I believe that neighborhoods that are considered low-income will see higher crime rates within parks and the surrounding areas than neighborhoods that are wealthy.
"
   ]
  },
  {
   "cell_type": "markdown",
   "metadata": {},
   "source": [
    "# Data"
   ]
  },
  {
   "cell_type": "markdown",
   "metadata": {},
   "source": [
    "The ideal datasets for this data science project would include variables of types of crime (kidnappings, disorderly conduct, assault, drug dealing, etc), frequency of crime, public park names and their surrounding neighborhoods, and neighborhoods average incomes. Ideally, this data would be stored in a CSV file because it could be read into Google Sheets, which will make it easy for me to be able to input things like the names of neighborhoods and public parks. This would also allow me to store it in tables with rows and columns. I would like to have as many observations as possible, especially in the crime rate variables. This would help me find a more clear relationship between crime rates and public parks.
The observations in my data sets would be Residents (to collect data on their location and average income) as well as neighborhoods (to collect data on crime rates, and public parks). Data regarding crime rates would be collected via the San Diego Police Department’s official website. There, I would possibly be able to find how often crime happens in certain neighborhoods.
"
   ]
  },
  {
   "cell_type": "markdown",
   "metadata": {},
   "source": [
    "# Ethics & Privacy"
   ]
  },
  {
   "cell_type": "markdown",
   "metadata": {},
   "source": [
    "The San Diego Police Department has data on crime that is accessible to the public, which I would be able to use for my project so long as I am sure to edit the data to not include any personal information (which I’m assuming it already won’t have). This data will be able to be used and observed for the purpose of this project so long as I credit the source and do not edit the data to be misleading or harmful to the public.
If I am able to obtain data on residents and average income of neighborhoods, I need to make sure that I am omitting any personal information such as names, addresses, etc. This way I won’t be putting anyone in danger by releasing their information to the public, although I don’t think this research will be released anywhere beyond the scope of this class. If I obtain data from people, I will be sure to inform them the purpose of the research project and let them know they can opt out to be part of the project at any time.
The data I will be collecting is likely to have some biases, especially when collecting the crime rates in different areas. My hypothesis is that the data is lower-income neighborhoods will have higher crime rates, and these crime rates may be biased based on other factors such as the area having more police, more racial profiling, etc. To handle issues like these, I will make sure to address them in my analysis and explain the potential factors that could be affecting the different levels of crime rates. 
"
   ]
  }
 ],
 "metadata": {
  "kernelspec": {
   "display_name": "Python 3",
   "language": "python",
   "name": "python3"
  },
  "language_info": {
   "codemirror_mode": {
    "name": "ipython",
    "version": 3
   },
   "file_extension": ".py",
   "mimetype": "text/x-python",
   "name": "python",
   "nbconvert_exporter": "python",
   "pygments_lexer": "ipython3",
   "version": "3.7.9"
  }
 },
 "nbformat": 4,
 "nbformat_minor": 2
}
